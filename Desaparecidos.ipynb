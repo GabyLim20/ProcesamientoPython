{
  "nbformat": 4,
  "nbformat_minor": 0,
  "metadata": {
    "colab": {
      "provenance": [],
      "mount_file_id": "10Xb1jBLFH3mPX7x2ce3VmCif4YXyUCud",
      "authorship_tag": "ABX9TyNm1RkRoP9NbtmFEfZgwGuN",
      "include_colab_link": true
    },
    "kernelspec": {
      "name": "python3",
      "display_name": "Python 3"
    },
    "language_info": {
      "name": "python"
    }
  },
  "cells": [
    {
      "cell_type": "markdown",
      "metadata": {
        "id": "view-in-github",
        "colab_type": "text"
      },
      "source": [
        "<a href=\"https://colab.research.google.com/github/GabyLim20/ProcesamientoPython/blob/main/Desaparecidos.ipynb\" target=\"_parent\"><img src=\"https://colab.research.google.com/assets/colab-badge.svg\" alt=\"Open In Colab\"/></a>"
      ]
    },
    {
      "cell_type": "code",
      "source": [
        "import pandas as pd\n",
        "import numpy as np"
      ],
      "metadata": {
        "id": "nZvua6c_FexO"
      },
      "execution_count": null,
      "outputs": []
    },
    {
      "cell_type": "code",
      "source": [
        "dataset= \"/content/drive/MyDrive/dataSet/dataSetDesaparecidos.csv\""
      ],
      "metadata": {
        "id": "DaMBMmTSFfEd"
      },
      "execution_count": null,
      "outputs": []
    }
  ]
}